{
 "cells": [
  {
   "cell_type": "markdown",
   "metadata": {},
   "source": [
    "# SPACESHIP TITANIC\n",
    "**EXPLORATORY DATA ANALYSIS**\n",
    "\n",
    "## Índice\n",
    "\n",
    "1. Lectura del archivo y descripción del dataset\n",
    "2. Selección de los datos de interés a analizar \n",
    "3. Limpieza de los datos.\n",
    "\n",
    "    3. Elementos nulos o vacíos\n",
    "    3. Valores extremos\n",
    "\n",
    "4. Análisis exploratorio\n",
    "\n",
    "    4. Análisis descriptivo (gráficos y tal)\n",
    "    4. Análisis estadístico\n",
    "    \n",
    "        - Comprobación de la normalidad y homogeneidad de la varianza\n",
    "        - Aplicación de pruebas estadísticas (pone que al menos 3)\n",
    "\n",
    "5. Conclusiones\n",
    "\n",
    "\n",
    "\n",
    "\n",
    "\n"
   ]
  }
 ],
 "metadata": {
  "language_info": {
   "name": "python"
  },
  "orig_nbformat": 4
 },
 "nbformat": 4,
 "nbformat_minor": 2
}
