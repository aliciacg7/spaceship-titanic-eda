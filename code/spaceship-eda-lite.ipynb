{
 "cells": [
  {
   "cell_type": "markdown",
   "metadata": {},
   "source": [
    "1. [Introducción](#intro)\n",
    "1. [Descripción del dataset](#description)\n",
    "1. [Integración y selección de los datos de interés a analizar](#integration)\n",
    "1. [Carga del datos y librerías](#file)\n",
    "1. [Limpieza de datos](#data-cleaning)\n",
    "\n",
    "    5.1 [Elementos duplicados](#duplicated)\n",
    "\n",
    "    5.2 [Valores extremos](#outliers)\n",
    "\n",
    "    5.3 [Valores nulos o vacíos](#null)\n",
    "\n",
    "    5.4 [Feature Engineering](#feature-eng)\n",
    "\n",
    "1. [Análisis exploratorio](#eda)\n",
    "\n",
    "    6.1 [Análisis descriptivo](#eda-descrip)\n",
    "\n",
    "    6.2 [Análisis estadístico](#eda-statistics)\n",
    "\n",
    "      6.2.1 [Análisis estadístico descriptivo](#eda-statistics-descrip)\n",
    "\n",
    "      6.2.2 [Comprobación de la normalidad y homogeneidad de la varianza](#normal)\n",
    "\n",
    "      6.2.3 [Aplicación de pruebas estadísticas](#tests)\n",
    "        \n",
    "1. [Conclusiones](#conclussion)"
   ]
  },
  {
   "cell_type": "markdown",
   "metadata": {},
   "source": [
    "# Introducción <a class=\"anchor\" id=\"intro\"></a>\n",
    "\n",
    "El siguiente documento recoge la realización de la Práctica 2 de la asignatura Tipología y ciclo de vida de los datos. En ella se elabora un caso práctico orientado a aprender a identificar los datos relevantes para un proyecto analítico y usar las herramientas de integración, limpieza, validación y análisis de las mismas. En ella se pondrán en práctica los conceptos aprendidos durante todo el semestre de la asignatura, realizando un análisis exploratorio de un dataset seleccionado y aplicando técnicas de análisis de datos.\n",
    "\n",
    "La práctica ha sido realizada por **Alicia Contreras** y **Daniel García**.\n",
    "\n",
    "# Descripción del dataset <a class=\"anchor\" id=\"description\"></a>\n",
    "\n",
    "El dataset elegido para esta práctica ha sido Spaceship Titanic. Se trata de una de las competiciones de la página web Kaggle.\n",
    "\n",
    "https://www.kaggle.com/competitions/spaceship-titanic\n",
    "\n",
    "Se trata de una serie de datos de casi 13.000 pasajeros de una nave espacial en el año 2912, encargada de transportar emigrantes del sistema solar a tres exoplanetas habitables. Esta nave ha tenido un incidente por el cual gran parte de los pasajeros han sido enviados a otra dimensión.\n",
    "\n",
    "El dataset contiene una variable objetivo que nos indica si un pasajero ha sido transportado a otra dimensión o no, con el objetivo de utilizar técnicas de ciencia de datos para predecirlo y evitar futuros desastres. \n",
    "\n",
    "Está compuesto por un total de 14 variables:\n",
    "\n",
    "- **PassengerId**: identificador único de cada pasajero. El formato del identificador es gggg_pp donde 'gggg' indica el grupo en el que está viajando el pasajero y 'pp' es su identificador dentro del grupo. Los grupos suelen estar formados por familias, aunque no siempre es así.\n",
    "- **HomePlanet**: El planeta desde el que ha partido el pasajero.\n",
    "- **CryoSleep**: Indica si el pasajero estaba en animación suspendida durante el transcurso del viaje. Los pasajeros en animación suspendida estaban confinados en sus cabinas.\n",
    "- **Cabin**: Número de cabina del pasajero. Tiene formato cubierta/numero/lado, donde 'lado' puede ser P para Babor y S para Estribor.\n",
    "- **Destination**: El planeta destino del pasajero.\n",
    "- **Age**: Edad del pasajero.\n",
    "- **VIP**: Indica si el pasajero ha pagado por el servicio VIP durante el viaje.\n",
    "- **RoomService, FoodCourt, ShoppingMall, Spa, VRDeck**: Cantidad de dinero gastada por el pasajero en cada uno de los servicios de lujo de la nave.\n",
    "- **Name**: Nombre y primer apellido del pasajero.\n",
    "- **Transported**: Variable objetivo que indica si el pasajero ha sido transportado o no a otra dimensión.\n",
    "\n",
    "El problema que se pretende responder mediante la elección de este dataset es conseguir analizar las características principales que hacen que una persona vaya a ser transportada o no. Ver si se cumple algún tipo de similitudes en cuanto a rangos de edad, lugar de alojamiento, nivel adquisitivo... para tratar de ver las causas que han podido llevar a esta situación y tratar de prevenir problemas así en un futuro hipotético. Como trabajo futuro se podría entrenar un algoritmo de machine learning que en base a estas características, aprenda a predecir qué pasajeros serán transportados o no. No obstante, esta praćtica no recogerá el entrenameinto de ese algoritmo.\n",
    "\n",
    "# Integración y selección de los datos de interés a analizar <a class=\"anchor\" id=\"integration\"></a>\n",
    "\n",
    "Se ha elegido este conjunto de datos ya que cumple con las características esperadas para plantear con él una tarea de ciencia de datos. El dataset es facilmente accesible, ya que los datos pueden descargarse directamente desde la página web de Kaggle. La información acerca de las variables del dataset y del objetivo de la competición están explicados con detalle. La variabilidad de la información que tenemos (variables categóricas, numéricas y booleanas) nos ha permitido realizar un análisis exploratorio de los datos completo y en profundidad. Por último, la temática de la competición nos ha parecido interesante y el hecho de realizar el análisis exploratorio para esta práctica nos servirá para realizar los primeros pasos de cara a participar en la competición."
   ]
  },
  {
   "cell_type": "markdown",
   "metadata": {},
   "source": [
    "# Carga del datos y librerías <a class=\"anchor\" id=\"file\"></a>"
   ]
  },
  {
   "cell_type": "code",
   "execution_count": 1,
   "metadata": {},
   "outputs": [],
   "source": [
    "# Importamos las librerias\n",
    "import pandas as pd\n",
    "import numpy as np\n",
    "import matplotlib.pyplot as plt\n",
    "%matplotlib inline\n",
    "import seaborn as sns\n",
    "sns.set(style='darkgrid', font_scale=1.2)\n",
    "sns.set(rc={'figure.figsize':(10,2)})\n",
    "\n",
    "from statsmodels.graphics.gofplots import qqplot\n",
    "import scipy.stats as stats\n",
    "from scipy.stats import ttest_ind, chi2_contingency, normaltest, levene\n",
    "from sklearn.preprocessing import RobustScaler\n",
    "import networkx as nx\n",
    "\n",
    "import statsmodels.api as sm\n",
    "import scipy"
   ]
  },
  {
   "cell_type": "markdown",
   "metadata": {},
   "source": [
    "En la página fuente del dataset se proporcionan ya separados los datos de training y test. Sin embargo, de cara a realizar un EDA se realizará una unión de ambos subgrupos para formar un único dataset. Los datos del subconjunto de *test* no cuentan con información acerca de la variable objetivo por lo que aquellos análisis que incluyan la variable objetivo se realizarán únicamente en el conjunto de *training*."
   ]
  },
  {
   "cell_type": "code",
   "execution_count": 2,
   "metadata": {},
   "outputs": [
    {
     "data": {
      "text/html": [
       "<div>\n",
       "<style scoped>\n",
       "    .dataframe tbody tr th:only-of-type {\n",
       "        vertical-align: middle;\n",
       "    }\n",
       "\n",
       "    .dataframe tbody tr th {\n",
       "        vertical-align: top;\n",
       "    }\n",
       "\n",
       "    .dataframe thead th {\n",
       "        text-align: right;\n",
       "    }\n",
       "</style>\n",
       "<table border=\"1\" class=\"dataframe\">\n",
       "  <thead>\n",
       "    <tr style=\"text-align: right;\">\n",
       "      <th></th>\n",
       "      <th>PassengerId</th>\n",
       "      <th>HomePlanet</th>\n",
       "      <th>CryoSleep</th>\n",
       "      <th>Cabin</th>\n",
       "      <th>Destination</th>\n",
       "      <th>Age</th>\n",
       "      <th>VIP</th>\n",
       "      <th>RoomService</th>\n",
       "      <th>FoodCourt</th>\n",
       "      <th>ShoppingMall</th>\n",
       "      <th>Spa</th>\n",
       "      <th>VRDeck</th>\n",
       "      <th>Name</th>\n",
       "      <th>Transported</th>\n",
       "    </tr>\n",
       "  </thead>\n",
       "  <tbody>\n",
       "    <tr>\n",
       "      <th>0</th>\n",
       "      <td>0001_01</td>\n",
       "      <td>Europa</td>\n",
       "      <td>False</td>\n",
       "      <td>B/0/P</td>\n",
       "      <td>TRAPPIST-1e</td>\n",
       "      <td>39.0</td>\n",
       "      <td>False</td>\n",
       "      <td>0.0</td>\n",
       "      <td>0.0</td>\n",
       "      <td>0.0</td>\n",
       "      <td>0.0</td>\n",
       "      <td>0.0</td>\n",
       "      <td>Maham Ofracculy</td>\n",
       "      <td>False</td>\n",
       "    </tr>\n",
       "    <tr>\n",
       "      <th>1</th>\n",
       "      <td>0002_01</td>\n",
       "      <td>Earth</td>\n",
       "      <td>False</td>\n",
       "      <td>F/0/S</td>\n",
       "      <td>TRAPPIST-1e</td>\n",
       "      <td>24.0</td>\n",
       "      <td>False</td>\n",
       "      <td>109.0</td>\n",
       "      <td>9.0</td>\n",
       "      <td>25.0</td>\n",
       "      <td>549.0</td>\n",
       "      <td>44.0</td>\n",
       "      <td>Juanna Vines</td>\n",
       "      <td>True</td>\n",
       "    </tr>\n",
       "  </tbody>\n",
       "</table>\n",
       "</div>"
      ],
      "text/plain": [
       "  PassengerId HomePlanet CryoSleep  Cabin  Destination   Age    VIP  \\\n",
       "0     0001_01     Europa     False  B/0/P  TRAPPIST-1e  39.0  False   \n",
       "1     0002_01      Earth     False  F/0/S  TRAPPIST-1e  24.0  False   \n",
       "\n",
       "   RoomService  FoodCourt  ShoppingMall    Spa  VRDeck             Name  \\\n",
       "0          0.0        0.0           0.0    0.0     0.0  Maham Ofracculy   \n",
       "1        109.0        9.0          25.0  549.0    44.0     Juanna Vines   \n",
       "\n",
       "  Transported  \n",
       "0       False  \n",
       "1        True  "
      ]
     },
     "execution_count": 2,
     "metadata": {},
     "output_type": "execute_result"
    }
   ],
   "source": [
    "df_train = pd.read_csv(\"../data/train.csv\")\n",
    "df_test = pd.read_csv(\"../data/test.csv\")\n",
    "\n",
    "df = pd.concat([df_train, df_test])\n",
    "\n",
    "df.head(2)"
   ]
  },
  {
   "cell_type": "code",
   "execution_count": 3,
   "metadata": {},
   "outputs": [
    {
     "name": "stdout",
     "output_type": "stream",
     "text": [
      "Tamaño del conjunto de datos de entrenamiento:\t (8693, 14)\n",
      "Tamaño del conjunto de datos de test:\t\t (4277, 13)\n",
      "Tamaño del conjunto de datos final:\t\t (12970, 14)\n"
     ]
    }
   ],
   "source": [
    "print('Tamaño del conjunto de datos de entrenamiento:\\t {}'.format(df_train.shape))\n",
    "print('Tamaño del conjunto de datos de test:\\t\\t {}'.format(df_test.shape))\n",
    "print('Tamaño del conjunto de datos final:\\t\\t {}'.format(df.shape))"
   ]
  },
  {
   "cell_type": "markdown",
   "metadata": {},
   "source": [
    "# Limpieza de datos <a class=\"anchor\" id=\"data-cleaning\"></a>\n",
    "\n",
    "En el siguiente apartado procederemos a realizar un análisis para ver si es necesario realizar una limpieza de datos. \n",
    "\n",
    "Para facilitar la selección de las distintas columnas, las agrupamos en 2 conjuntos: categóricas (cualitativas) y numéricas (cuantitativas)."
   ]
  },
  {
   "cell_type": "code",
   "execution_count": 4,
   "metadata": {},
   "outputs": [],
   "source": [
    "# Agrupamos las columnas por tipos\n",
    "categorical_cols = [\"PassengerId\", \"HomePlanet\", \"CryoSleep\", \"Cabin\", \"Destination\", \"VIP\"]\n",
    "numeric_cols = [\"Age\", \"RoomService\", \"FoodCourt\", \"ShoppingMall\", \"Spa\", \"VRDeck\"]\n",
    "target_col = \"Transported\""
   ]
  },
  {
   "cell_type": "markdown",
   "metadata": {},
   "source": [
    "**Destacar que aplicaremos los mismos procedimientos de limpieza al marco de datos general (df) y a los datos de entrenamiento (df_train) ya que va a ser el usado para analizar los datos de la variable objetivo.**"
   ]
  },
  {
   "cell_type": "markdown",
   "metadata": {},
   "source": [
    "## Elementos duplicados <a class=\"anchor\" id=\"duplicated\"></a>\n",
    "\n",
    "\n",
    "En primer lugar, comprobaremos si existen elementos duplicados en el dataset. Para ello utilizaremos la columna **PassengerId**. Se trata de un identificador único de cliente según las especificaciones del dataset. Vemos que esto se cumple, ya que no existe duplicidad en la columna. El resto de elementos del dataset si podrían estar duplicados por lo que con esta columna nos bastaría para ver que efectivamente, no existe duplicidad de registros."
   ]
  },
  {
   "cell_type": "code",
   "execution_count": 5,
   "metadata": {},
   "outputs": [
    {
     "data": {
      "text/plain": [
       "0"
      ]
     },
     "execution_count": 5,
     "metadata": {},
     "output_type": "execute_result"
    }
   ],
   "source": [
    "df[df[\"PassengerId\"].duplicated() == True].size"
   ]
  },
  {
   "cell_type": "code",
   "execution_count": 6,
   "metadata": {},
   "outputs": [],
   "source": [
    "# Una vez comprobado que no se han duplicado los datos, prescindimos de las columna Name\n",
    "# por no aportar información útil más allá de ser identificativa.\n",
    "df = df.drop(['Name'], axis=1)\n",
    "df_train = df_train.drop(['Name'], axis=1)"
   ]
  },
  {
   "cell_type": "markdown",
   "metadata": {},
   "source": [
    "## Valores nulos o vacíos <a class=\"anchor\" id=\"null\"></a>\n",
    "\n",
    "Comprobamos el número de valores vacíos o nulos que existen por cada una de las columnas:"
   ]
  },
  {
   "cell_type": "code",
   "execution_count": 32,
   "metadata": {},
   "outputs": [
    {
     "ename": "ValueError",
     "evalue": "truncate requires a sorted index",
     "output_type": "error",
     "traceback": [
      "\u001b[0;31m---------------------------------------------------------------------------\u001b[0m",
      "\u001b[0;31mValueError\u001b[0m                                Traceback (most recent call last)",
      "Input \u001b[0;32mIn [32]\u001b[0m, in \u001b[0;36m<cell line: 2>\u001b[0;34m()\u001b[0m\n\u001b[1;32m      1\u001b[0m \u001b[38;5;66;03m# Comprobamos valores nulos\u001b[39;00m\n\u001b[0;32m----> 2\u001b[0m \u001b[43mdf\u001b[49m\u001b[38;5;241;43m.\u001b[39;49m\u001b[43misnull\u001b[49m\u001b[43m(\u001b[49m\u001b[43m)\u001b[49m\u001b[38;5;241;43m.\u001b[39;49m\u001b[43msum\u001b[49m\u001b[43m(\u001b[49m\u001b[43m)\u001b[49m\u001b[38;5;241;43m.\u001b[39;49m\u001b[43mtruncate\u001b[49m\u001b[43m(\u001b[49m\u001b[43m)\u001b[49m\n",
      "File \u001b[0;32m~/opt/anaconda3/envs/tipologia/lib/python3.9/site-packages/pandas/core/generic.py:9718\u001b[0m, in \u001b[0;36mNDFrame.truncate\u001b[0;34m(self, before, after, axis, copy)\u001b[0m\n\u001b[1;32m   9715\u001b[0m \u001b[38;5;66;03m# GH 17935\u001b[39;00m\n\u001b[1;32m   9716\u001b[0m \u001b[38;5;66;03m# Check that index is sorted\u001b[39;00m\n\u001b[1;32m   9717\u001b[0m \u001b[38;5;28;01mif\u001b[39;00m \u001b[38;5;129;01mnot\u001b[39;00m ax\u001b[38;5;241m.\u001b[39mis_monotonic_increasing \u001b[38;5;129;01mand\u001b[39;00m \u001b[38;5;129;01mnot\u001b[39;00m ax\u001b[38;5;241m.\u001b[39mis_monotonic_decreasing:\n\u001b[0;32m-> 9718\u001b[0m     \u001b[38;5;28;01mraise\u001b[39;00m \u001b[38;5;167;01mValueError\u001b[39;00m(\u001b[38;5;124m\"\u001b[39m\u001b[38;5;124mtruncate requires a sorted index\u001b[39m\u001b[38;5;124m\"\u001b[39m)\n\u001b[1;32m   9720\u001b[0m \u001b[38;5;66;03m# if we have a date index, convert to dates, otherwise\u001b[39;00m\n\u001b[1;32m   9721\u001b[0m \u001b[38;5;66;03m# treat like a slice\u001b[39;00m\n\u001b[1;32m   9722\u001b[0m \u001b[38;5;28;01mif\u001b[39;00m ax\u001b[38;5;241m.\u001b[39m_is_all_dates:\n",
      "\u001b[0;31mValueError\u001b[0m: truncate requires a sorted index"
     ]
    }
   ],
   "source": [
    "# Comprobamos valores nulos\n",
    "df.isnull().sum().truncate()"
   ]
  },
  {
   "cell_type": "markdown",
   "metadata": {},
   "source": [
    "Por lo general parece que existe una gran cantidad de valores nulos en las columnas, a pesar de que no supone un número excesivamente alto con respecto al total de registros. Cabe destacar que la gran cantidad de valores nulos en la variable objetivo **se corresponden con los registros del conjunto de test**, por lo que pantendremos esos registros intactos y se excluirán de los analisis que se hagan de dicha variable.\n",
    "\n",
    "Tal y como observamos a continuación, no hay muchas columnas con más de 3 valores nulos."
   ]
  },
  {
   "cell_type": "code",
   "execution_count": 8,
   "metadata": {},
   "outputs": [
    {
     "data": {
      "text/html": [
       "<div>\n",
       "<style scoped>\n",
       "    .dataframe tbody tr th:only-of-type {\n",
       "        vertical-align: middle;\n",
       "    }\n",
       "\n",
       "    .dataframe tbody tr th {\n",
       "        vertical-align: top;\n",
       "    }\n",
       "\n",
       "    .dataframe thead th {\n",
       "        text-align: right;\n",
       "    }\n",
       "</style>\n",
       "<table border=\"1\" class=\"dataframe\">\n",
       "  <thead>\n",
       "    <tr style=\"text-align: right;\">\n",
       "      <th></th>\n",
       "      <th>PassengerId</th>\n",
       "      <th>HomePlanet</th>\n",
       "      <th>CryoSleep</th>\n",
       "      <th>Cabin</th>\n",
       "      <th>Destination</th>\n",
       "      <th>Age</th>\n",
       "      <th>VIP</th>\n",
       "      <th>RoomService</th>\n",
       "      <th>FoodCourt</th>\n",
       "      <th>ShoppingMall</th>\n",
       "      <th>Spa</th>\n",
       "      <th>VRDeck</th>\n",
       "      <th>Transported</th>\n",
       "    </tr>\n",
       "  </thead>\n",
       "  <tbody>\n",
       "    <tr>\n",
       "      <th>488</th>\n",
       "      <td>1050_01</td>\n",
       "      <td>NaN</td>\n",
       "      <td>True</td>\n",
       "      <td>G/157/P</td>\n",
       "      <td>TRAPPIST-1e</td>\n",
       "      <td>NaN</td>\n",
       "      <td>False</td>\n",
       "      <td>0.0</td>\n",
       "      <td>0.0</td>\n",
       "      <td>NaN</td>\n",
       "      <td>0.0</td>\n",
       "      <td>0.0</td>\n",
       "      <td>NaN</td>\n",
       "    </tr>\n",
       "    <tr>\n",
       "      <th>2042</th>\n",
       "      <td>4412_01</td>\n",
       "      <td>Earth</td>\n",
       "      <td>False</td>\n",
       "      <td>F/907/P</td>\n",
       "      <td>NaN</td>\n",
       "      <td>19.0</td>\n",
       "      <td>NaN</td>\n",
       "      <td>9.0</td>\n",
       "      <td>3.0</td>\n",
       "      <td>0.0</td>\n",
       "      <td>1390.0</td>\n",
       "      <td>NaN</td>\n",
       "      <td>NaN</td>\n",
       "    </tr>\n",
       "  </tbody>\n",
       "</table>\n",
       "</div>"
      ],
      "text/plain": [
       "     PassengerId HomePlanet CryoSleep    Cabin  Destination   Age    VIP  \\\n",
       "488      1050_01        NaN      True  G/157/P  TRAPPIST-1e   NaN  False   \n",
       "2042     4412_01      Earth     False  F/907/P          NaN  19.0    NaN   \n",
       "\n",
       "      RoomService  FoodCourt  ShoppingMall     Spa  VRDeck Transported  \n",
       "488           0.0        0.0           NaN     0.0     0.0         NaN  \n",
       "2042          9.0        3.0           0.0  1390.0     NaN         NaN  "
      ]
     },
     "execution_count": 8,
     "metadata": {},
     "output_type": "execute_result"
    }
   ],
   "source": [
    "df[df.isna().sum(axis=1) > 3]"
   ]
  },
  {
   "cell_type": "markdown",
   "metadata": {},
   "source": [
    "Teniendo en cuenta las características del dataset, se han tomado las siguientes decisiones de diseño sobre el tratamiento de valores nulos:\n",
    "\n",
    "- Los registros que no contengan la variable numérica **Age** se reemplazarán los valores nulos por la media de edad de todos los pasajeros de la nave.\n",
    "- Las variables numéricas relacionadas con los gastos de los pasajeros en los dervicios de lujo de la nave **RoomService, FoodCourt, ShoppingMall, Spa y VRDeck** se sustituirán por 0. Se asumirá que los clientes que no tengan información en estas variables es porque no se han gastado nada en ellos.\n",
    "- Para las variables categóticas se mantendrán los nulos, ya que el hecho de que los valores estén a nulo puede ofrecernos información importante. En las variables no booleanas **HomePlanet, CryoSleep, Cabin y Destination** se sustituirán los nulos por la etiqueta \"Desconocido\"."
   ]
  },
  {
   "cell_type": "code",
   "execution_count": 9,
   "metadata": {},
   "outputs": [
    {
     "data": {
      "text/plain": [
       "PassengerId        0\n",
       "HomePlanet         0\n",
       "CryoSleep          0\n",
       "Cabin              0\n",
       "Destination        0\n",
       "Age                0\n",
       "VIP                0\n",
       "RoomService        0\n",
       "FoodCourt          0\n",
       "ShoppingMall       0\n",
       "Spa                0\n",
       "VRDeck             0\n",
       "Transported     4277\n",
       "dtype: int64"
      ]
     },
     "execution_count": 9,
     "metadata": {},
     "output_type": "execute_result"
    }
   ],
   "source": [
    "# Sustituir nan en las variables categoricas por la el valor Desconocido. En el caso de 'HomePlanet' y 'Destination' se usarán strings más descriptivos\n",
    "for col in categorical_cols:\n",
    "    fill_str = 'Desconocido'\n",
    "    if col == 'HomePlanet':\n",
    "        fill_str = 'Origen desconocido'\n",
    "    elif col == 'Destination':\n",
    "        fill_str = 'Destino desconocido'\n",
    "                \n",
    "    df[col] = df[col].fillna(fill_str)\n",
    "    df_train[col] = df_train[col].fillna(fill_str)\n",
    "\n",
    "# Sustituir nan en las variables numericas por la media\n",
    "for col in numeric_cols:\n",
    "    if col != \"Age\":\n",
    "        df[col] = df[col].fillna(0)\n",
    "        df_train[col] = df_train[col].fillna(0)\n",
    "    \n",
    "# Sistituir nan en Age por la media\n",
    "df[\"Age\"]=df[\"Age\"].fillna(df[\"Age\"].mean())\n",
    "df_train[\"Age\"]=df_train[\"Age\"].fillna(df_train[\"Age\"].mean())\n",
    "\n",
    "df.isnull().sum()"
   ]
  },
  {
   "cell_type": "markdown",
   "metadata": {},
   "source": [
    "Para poder trabajar con los datos binarios False y True, sustituimos estos valores por 0 y 1, respectivamente, en las columnas correspondientes, incluída la variable objetivo *Transported*."
   ]
  },
  {
   "cell_type": "code",
   "execution_count": 10,
   "metadata": {},
   "outputs": [],
   "source": [
    "# Sustituimos valores de True-False por 1 o 0\n",
    "df[\"CryoSleep\"] = df[\"CryoSleep\"].map(lambda x: 1 if x==True else 0)\n",
    "df[\"VIP\"] = df[\"VIP\"].map(lambda x: 1 if x==True else 0)\n",
    "df[\"Transported\"] = df[\"Transported\"].map(lambda x: 1 if x==True else 0)\n",
    "\n",
    "df_train[\"CryoSleep\"] = df_train[\"CryoSleep\"].map(lambda x: 1 if x==True else 0)\n",
    "df_train[\"VIP\"] = df_train[\"VIP\"].map(lambda x: 1 if x==True else 0)\n",
    "df_train[\"Transported\"] = df_train[\"Transported\"].map(lambda x: 1 if x==True else 0)"
   ]
  },
  {
   "cell_type": "markdown",
   "metadata": {},
   "source": [
    "\n",
    "## Valores extremos <a class=\"anchor\" id=\"outliers\"></a>\n",
    "\n",
    "A continuación queremos comprobar la existencia de valores extremos, ya que esto puede afectar en gran medida el análisis posterior."
   ]
  },
  {
   "cell_type": "code",
   "execution_count": 11,
   "metadata": {},
   "outputs": [
    {
     "data": {
      "text/plain": [
       "<AxesSubplot:xlabel='VRDeck'>"
      ]
     },
     "execution_count": 11,
     "metadata": {},
     "output_type": "execute_result"
    },
    {
     "data": {
      "image/png": "[encoded data removed]",
      "text/plain": [
       "<Figure size 1584x288 with 6 Axes>"
      ]
     },
     "metadata": {},
     "output_type": "display_data"
    }
   ],
   "source": [
    "fig, axes = plt.subplots(3, 2, figsize=(22, 4))\n",
    "\n",
    "fig.suptitle('Distribución de variables numéricas')\n",
    "\n",
    "sns.boxplot(ax=axes[0, 0], data=df, x='Age')\n",
    "sns.boxplot(ax=axes[0, 1], data=df, x='RoomService')\n",
    "sns.boxplot(ax=axes[1, 0], data=df, x='FoodCourt')\n",
    "sns.boxplot(ax=axes[1, 1], data=df, x='ShoppingMall')\n",
    "sns.boxplot(ax=axes[2, 0], data=df, x='Spa')\n",
    "sns.boxplot(ax=axes[2, 1], data=df, x='VRDeck')"
   ]
  },
  {
   "cell_type": "markdown",
   "metadata": {},
   "source": [
    "Tal y como podemos ver en la representación de los boxplots de las variables numéricas, existen gran cantidad de valores considerados atípicos en las relacionadas con las cantidades de dinero gastadas por los clientes aunque se puede asumir que realmente hay clientes con mucho dinero que pueden asumir esa clase de gastos. En relación a la variable \"age\", los valores considerados atípicos en el boxplot están dentro del rango de edades posibles para una persona, por lo que los mantendremos. \n",
    "\n",
    "Los únicos valores que no podrían ser válidos serían menos que 0, pues significaría que les han pagado por utilizar los servicios o que hay personas que menos de 0 años."
   ]
  },
  {
   "cell_type": "code",
   "execution_count": 12,
   "metadata": {},
   "outputs": [
    {
     "data": {
      "text/plain": [
       "Age             0.0\n",
       "RoomService     0.0\n",
       "FoodCourt       0.0\n",
       "ShoppingMall    0.0\n",
       "Spa             0.0\n",
       "VRDeck          0.0\n",
       "dtype: float64"
      ]
     },
     "execution_count": 12,
     "metadata": {},
     "output_type": "execute_result"
    }
   ],
   "source": [
    "df[df[numeric_cols] < 0][numeric_cols].sum()"
   ]
  },
  {
   "cell_type": "markdown",
   "metadata": {},
   "source": [
    "## Feature Engineering <a class=\"anchor\" id=\"feature-eng\"></a>\n",
    "\n",
    "En este apartado generamos columnas nuevas nuevas a partir de las ya existentes para simplificar o ampliar la información que proporcionan de cara al análisis de los datos.\n",
    "\n",
    "Con el ID del pasajero podemos obtener el grupo al que pertenecen y, por tanto, calculamos el tamaño del grupo al que pertenece cada uno de los pasajeros. Como ésta es la única información importante que aporta el PassengerId, prescindimos de esta columna.\n",
    "\n",
    "De la columna Cabin obtenemos el lado en que está la cabina (babor o estribor) a partir del último caracter y, por último, crearemos una variable **Total_spent** que será la suma de gastos en los servicios **RoomService, FoodCourt, ShoppingMall, Spa y VRDeck.**"
   ]
  },
  {
   "cell_type": "code",
   "execution_count": 13,
   "metadata": {},
   "outputs": [
    {
     "data": {
      "text/html": [
       "<div>\n",
       "<style scoped>\n",
       "    .dataframe tbody tr th:only-of-type {\n",
       "        vertical-align: middle;\n",
       "    }\n",
       "\n",
       "    .dataframe tbody tr th {\n",
       "        vertical-align: top;\n",
       "    }\n",
       "\n",
       "    .dataframe thead th {\n",
       "        text-align: right;\n",
       "    }\n",
       "</style>\n",
       "<table border=\"1\" class=\"dataframe\">\n",
       "  <thead>\n",
       "    <tr style=\"text-align: right;\">\n",
       "      <th></th>\n",
       "      <th>HomePlanet</th>\n",
       "      <th>CryoSleep</th>\n",
       "      <th>Destination</th>\n",
       "      <th>Age</th>\n",
       "      <th>VIP</th>\n",
       "      <th>RoomService</th>\n",
       "      <th>FoodCourt</th>\n",
       "      <th>ShoppingMall</th>\n",
       "      <th>Spa</th>\n",
       "      <th>VRDeck</th>\n",
       "      <th>Transported</th>\n",
       "      <th>GroupSize</th>\n",
       "      <th>CabinOrientation</th>\n",
       "      <th>Total_spent</th>\n",
       "    </tr>\n",
       "  </thead>\n",
       "  <tbody>\n",
       "    <tr>\n",
       "      <th>0</th>\n",
       "      <td>Europa</td>\n",
       "      <td>0</td>\n",
       "      <td>TRAPPIST-1e</td>\n",
       "      <td>39.0</td>\n",
       "      <td>0</td>\n",
       "      <td>0.0</td>\n",
       "      <td>0.0</td>\n",
       "      <td>0.0</td>\n",
       "      <td>0.0</td>\n",
       "      <td>0.0</td>\n",
       "      <td>0</td>\n",
       "      <td>1</td>\n",
       "      <td>Babor</td>\n",
       "      <td>0.0</td>\n",
       "    </tr>\n",
       "    <tr>\n",
       "      <th>1</th>\n",
       "      <td>Earth</td>\n",
       "      <td>0</td>\n",
       "      <td>TRAPPIST-1e</td>\n",
       "      <td>24.0</td>\n",
       "      <td>0</td>\n",
       "      <td>109.0</td>\n",
       "      <td>9.0</td>\n",
       "      <td>25.0</td>\n",
       "      <td>549.0</td>\n",
       "      <td>44.0</td>\n",
       "      <td>1</td>\n",
       "      <td>1</td>\n",
       "      <td>Estribor</td>\n",
       "      <td>736.0</td>\n",
       "    </tr>\n",
       "  </tbody>\n",
       "</table>\n",
       "</div>"
      ],
      "text/plain": [
       "  HomePlanet  CryoSleep  Destination   Age  VIP  RoomService  FoodCourt  \\\n",
       "0     Europa          0  TRAPPIST-1e  39.0    0          0.0        0.0   \n",
       "1      Earth          0  TRAPPIST-1e  24.0    0        109.0        9.0   \n",
       "\n",
       "   ShoppingMall    Spa  VRDeck  Transported  GroupSize CabinOrientation  \\\n",
       "0           0.0    0.0     0.0            0          1            Babor   \n",
       "1          25.0  549.0    44.0            1          1         Estribor   \n",
       "\n",
       "   Total_spent  \n",
       "0          0.0  \n",
       "1        736.0  "
      ]
     },
     "execution_count": 13,
     "metadata": {},
     "output_type": "execute_result"
    }
   ],
   "source": [
    "# Tamaño del grupo\n",
    "df['Group'] = df['PassengerId'].str[:4]\n",
    "df[\"GroupSize\"] = df[\"Group\"].map(lambda x: df['Group'].value_counts()[x])\n",
    "df = df.drop(columns=['Group', 'PassengerId'], axis=1)\n",
    "\n",
    "df_train['Group'] = df_train['PassengerId'].str[:4]\n",
    "df_train[\"GroupSize\"] = df_train[\"Group\"].map(lambda x: df_train['Group'].value_counts()[x])\n",
    "df_train = df_train.drop(columns=['Group', 'PassengerId'], axis=1)\n",
    "\n",
    "# Lugar de la cabina\n",
    "df['Cabin'] = df['Cabin'].str[-1:]\n",
    "df[\"CabinOrientation\"] = df[\"Cabin\"].map(lambda x: 'Estribor' if x=='S' else ('Babor' if x=='P' else 'Desconocido'))\n",
    "df = df.drop(columns=['Cabin'], axis=1)\n",
    "\n",
    "df_train['Cabin'] = df_train['Cabin'].str[-1:]\n",
    "df_train[\"CabinOrientation\"] = df_train[\"Cabin\"].map(lambda x: 'Estribor' if x=='S' else ('Babor' if x=='P' else 'Desconocido'))\n",
    "df_train= df_train.drop(columns=['Cabin'], axis=1)\n",
    "\n",
    "# Total de gasto\n",
    "df[\"Total_spent\"] = df[[\"RoomService\", \"FoodCourt\", \"ShoppingMall\", \"Spa\", \"VRDeck\"]].sum(axis=1)\n",
    "df_train[\"Total_spent\"] = df_train[[\"RoomService\", \"FoodCourt\", \"ShoppingMall\", \"Spa\", \"VRDeck\"]].sum(axis=1)\n",
    "df[[\"RoomService\", \"FoodCourt\", \"ShoppingMall\", \"Spa\", \"VRDeck\",\"Total_spent\"]].head(3)\n",
    "\n",
    "df.head(2)"
   ]
  },
  {
   "cell_type": "code",
   "execution_count": 14,
   "metadata": {},
   "outputs": [],
   "source": [
    "# Guardamos los datos limpios\n",
    "df.to_csv('../data/data_clean.csv') \n",
    "df_train.to_csv('../data/train_clean.csv')"
   ]
  },
  {
   "cell_type": "markdown",
   "metadata": {},
   "source": [
    "# Análisis exploratorio  <a class=\"anchor\" id=\"eda\"></a>\n",
    "\n",
    "## Análisis descriptivo <a class=\"anchor\" id=\"eda-descrip\"></a>\n",
    "\n",
    "En esta sección realizaremos un análisis gráfico y comparativo de las diferentes variables del dataset. \n",
    "\n",
    "En primer lugar, analizaremos el objetivo del viaje en transbordador, que es viajar a otro planeta. Tenemos la información del planeta de origen de cada pasajero así como el planeta al que viaja."
   ]
  },
  {
   "cell_type": "code",
   "execution_count": 15,
   "metadata": {},
   "outputs": [
    {
     "data": {
      "text/plain": [
       "<AxesSubplot:xlabel='Destination', ylabel='count'>"
      ]
     },
     "execution_count": 15,
     "metadata": {},
     "output_type": "execute_result"
    },
    {
     "data": {
      "image/png": "[encoded data removed]",
      "text/plain": [
       "<Figure size 1008x216 with 2 Axes>"
      ]
     },
     "metadata": {},
     "output_type": "display_data"
    }
   ],
   "source": [
    "df = pd.read_csv(\"../data/data_clean.csv\")\n",
    "df_train = pd.read_csv(\"../data/train_clean.csv\")\n",
    "\n",
    "fig, axes = plt.subplots(1, 2, figsize=(14, 3))\n",
    "sns.countplot(ax=axes[0], data=df, x='HomePlanet')\n",
    "sns.countplot(ax=axes[1], data=df, x='Destination')"
   ]
  },
  {
   "cell_type": "markdown",
   "metadata": {},
   "source": [
    "Podemos ver que la gran mayoría de pasajeros provienen del planeta Tierra, Earth. En cuanto a los planetas de destino, podemos ver que el más común con diferencia al que se dirige la gente es TRAPPIST-1e. Existe bastante diferencia con respecto a los otros dos planetas. Es extraño el hecho de que existan personas de las que se desconocen el origen y el destino, ya que se entiende que el único motivo de viajar en esta nave es trasladarse a otro planeta. POdría tratarse sin embargo de los empleados de la tripulación o el personal de la nave.\n",
    "\n",
    "Queremos observar también las combinaciones más típicas entre origen y destino, para lo cual representaremos los valores en un grafo relacional."
   ]
  },
  {
   "cell_type": "code",
   "execution_count": 16,
   "metadata": {},
   "outputs": [
    {
     "data": {
      "image/png": "[encoded data removed]",
      "text/plain": [
       "<Figure size 720x216 with 1 Axes>"
      ]
     },
     "metadata": {},
     "output_type": "display_data"
    }
   ],
   "source": [
    "df_aux = df[['HomePlanet', 'Destination']]\n",
    "\n",
    "destination_graph=df_aux.value_counts().reset_index()\n",
    "destination_graph.columns = ['HomePlanet', 'Destination', 'Total']\n",
    "destination_graph=destination_graph.sort_values(by=['Total'])\n",
    "\n",
    "plt.figure(3,figsize=(10,3)) \n",
    "\n",
    "G=nx.from_pandas_edgelist(destination_graph, 'HomePlanet', 'Destination', create_using=nx.Graph() )\n",
    " \n",
    "nx.draw(G, with_labels=True, node_color='skyblue', node_size=1500, edge_color=destination_graph['Total'], width=10.0, edge_cmap=plt.cm.Blues)\n",
    "plt.show()"
   ]
  },
  {
   "cell_type": "markdown",
   "metadata": {},
   "source": [
    "El grafo representa el conteo de origen-destino por tonalidades de color, cuanto más oscuro más concurrido. Vemos que como era de esperar, el planeta de partida más común, Earth coincide con el planeta de destino más común TRAPPIST-1e como combinación de viaje más concurrida. El segundo destino más común para personas que habitan en la Tierra es el planeta 55 Cancri e.\n",
    "\n",
    "Queremos comparar el nivel económico de los pasajeros que se alojan a ambos lados de la nave. Para ello utilizamos la columna con la orientación de la cabina. Para ello usaremos la columna previamente creada **Total_spent**, que equivale al total de los gastos en los servicios de cada pasajero. "
   ]
  },
  {
   "cell_type": "code",
   "execution_count": 17,
   "metadata": {},
   "outputs": [
    {
     "data": {
      "text/plain": [
       "<AxesSubplot:title={'center':'Dinero gastado en servicios por los tripulantes VIP y no VIP en cada lado de la nave'}, xlabel='CabinOrientation', ylabel='Total_spent'>"
      ]
     },
     "execution_count": 17,
     "metadata": {},
     "output_type": "execute_result"
    },
    {
     "data": {
      "image/png": "[encoded data removed]",
      "text/plain": [
       "<Figure size 1224x216 with 1 Axes>"
      ]
     },
     "metadata": {},
     "output_type": "display_data"
    }
   ],
   "source": [
    "plt.figure(3,figsize=(17,3))\n",
    "plt.title('Dinero gastado en servicios por los tripulantes VIP y no VIP en cada lado de la nave')\n",
    "\n",
    "sns.boxplot(x='CabinOrientation', y='Total_spent', hue='VIP', data=df)"
   ]
  },
  {
   "cell_type": "markdown",
   "metadata": {},
   "source": [
    "Como era de esperar, las personas que han contratado los servicios VIP de la nave suelen gastarse cantidades más altas de dinero en actividades complementarias, por lo que se entiende que se trata de tripulantes con un poder adquisitivo alto. Para cualquiera de los lados de camarotes de la nave, el 75% de personas no VIP se han gastado lo mismo que el 25% de personas VIP. Esto quiere decir que los gastos de las personas VIP son bastante superiores a los de las personas no VIP independientemente del lado en el que se alojen. El nivel adquisitivo de ambos lados de la nave parece ser similar aunque las personas que se alojan en la parte de estribor (S) despuntan un poco por arriba, por lo que suelen gastarse un poco maś. Contrastando esta información con el recuento anterior de personas VIP, llegamos a la conclusión de que en el lado de estribor, a pesar de haber un menor número de personas VIP, suelen gastarse más en servicios."
   ]
  },
  {
   "cell_type": "code",
   "execution_count": 18,
   "metadata": {},
   "outputs": [
    {
     "data": {
      "text/plain": [
       "<AxesSubplot:title={'center':'Matriz de correlación de variables numéricas'}>"
      ]
     },
     "execution_count": 18,
     "metadata": {},
     "output_type": "execute_result"
    },
    {
     "data": {
      "image/png": "[encoded data removed]",
      "text/plain": [
       "<Figure size 576x288 with 2 Axes>"
      ]
     },
     "metadata": {},
     "output_type": "display_data"
    }
   ],
   "source": [
    "numeric_cols.append('Total_spent')\n",
    "\n",
    "plt.figure(figsize=(8,4))\n",
    "corr = df[numeric_cols].corr()\n",
    "\n",
    "plt.title('Matriz de correlación de variables numéricas')\n",
    "sns.heatmap(corr,  annot=True)"
   ]
  },
  {
   "cell_type": "markdown",
   "metadata": {},
   "source": [
    "Por último, hemos dibujado una matriz de correlación entre las variables numéricas para ver hasta que punto podemos decir que están correlacionadas. Observamos que en general no existe una correlación muy alta entre las variables numéricas. Las correlaciones más altas se dan entre las variables **Spa** y **FoodCourt**, que son los gastos más recurrentes como hemos visto anteriormente y entre **VRDeck** y **FoodCourt**. Los gastos más correlacionados con la edad son precisamente los primeros comentados, **Spa** y **FoodCourt**."
   ]
  },
  {
   "cell_type": "markdown",
   "metadata": {},
   "source": [
    "A continuación, como hemos comentado anteriormente, vamos a analizar la variable objetivo **Transported**. En primer lugar, obtenemos la distribución de los de la variable para comprobar si los valores están balanceados o no. Esta comprobación solo se realiza sobre los datos de entrenamiento, ya que el conjunto de test no dispone de esta variable."
   ]
  },
  {
   "cell_type": "code",
   "execution_count": 19,
   "metadata": {},
   "outputs": [
    {
     "data": {
      "text/plain": [
       "<AxesSubplot:xlabel='Transported', ylabel='count'>"
      ]
     },
     "execution_count": 19,
     "metadata": {},
     "output_type": "execute_result"
    },
    {
     "data": {
      "image/png": "[encoded data removed]",
      "text/plain": [
       "<Figure size 216x144 with 1 Axes>"
      ]
     },
     "metadata": {},
     "output_type": "display_data"
    }
   ],
   "source": [
    "# Distribucion de la variable objetivo\n",
    "\n",
    "plt.figure(figsize=(3,2))\n",
    "sns.countplot(data=df_train, x='Transported')"
   ]
  },
  {
   "cell_type": "markdown",
   "metadata": {},
   "source": [
    "Podemos ver que la variable objetivo está muy balanceada. Esto puede evitar numerosos problemas en un futuro a la hora del análisis y de las pruebas estadísticas. Además, en caso de llegar a entrenar un algoritmo de clasificación por ejemplo, el hecho de que la variable de clasificación esté balanceada hará que se eviten sesgos en el entrenamiento del algoritmo.\n",
    "\n",
    "Comenzamos el análisis de la variable objetivo **Transported** con las variables cualitativas:"
   ]
  },
  {
   "cell_type": "code",
   "execution_count": 20,
   "metadata": {},
   "outputs": [
    {
     "data": {
      "text/plain": [
       "<AxesSubplot:title={'center':'Pasajeros no criogenizados'}, ylabel='Transported'>"
      ]
     },
     "execution_count": 20,
     "metadata": {},
     "output_type": "execute_result"
    },
    {
     "data": {
      "image/png": "[encoded data removed]",
      "text/plain": [
       "<Figure size 504x144 with 2 Axes>"
      ]
     },
     "metadata": {},
     "output_type": "display_data"
    }
   ],
   "source": [
    "# En funcion de si los pasajeros estaban criogenizados o no\n",
    "fig, axs = plt.subplots(1, 2, figsize=(7,2))\n",
    "df_train[df_train['CryoSleep'] == 0]['Transported'].value_counts().plot(kind='pie', \n",
    "                                                                         autopct='%1.1f%%', \n",
    "                                                                         title='Pasajeros criogenizados',\n",
    "                                                                         ax=axs[0])\n",
    "\n",
    "df_train[df_train['CryoSleep'] == 1]['Transported'].value_counts().plot(kind='pie', \n",
    "                                                                         autopct='%1.1f%%', \n",
    "                                                                         title='Pasajeros no criogenizados',\n",
    "                                                                         ax=axs[1])"
   ]
  },
  {
   "cell_type": "markdown",
   "metadata": {},
   "source": [
    "Del gráfico superior vemos que hay una diferencia muy significativa entre los pasajeros en animación suspendida y los que no, porque más de la mitad (67%) de los criogenizados no fueron transportados a otra dimensión mientras que sólo el 18% de los no criogenizados se salvaron.\n",
    "\n",
    "Dado que por ahora las diferencias más importantes se han observado entre los planetas de destino y en entre los criogenizados y los que no, vamos a juntar ambos criterios para ver si podemos obtener más información que por separado."
   ]
  },
  {
   "cell_type": "code",
   "execution_count": 21,
   "metadata": {},
   "outputs": [
    {
     "name": "stdout",
     "output_type": "stream",
     "text": [
      "Pasajeros no Criogenizados por planeta de Origen\n",
      "Pasajeros Criogenizados por planeta de Origen\n"
     ]
    },
    {
     "data": {
      "text/plain": [
       "[Text(0.5, 1.0, 'Pasajeros Criogenizados por planeta de Origen')]"
      ]
     },
     "execution_count": 21,
     "metadata": {},
     "output_type": "execute_result"
    },
    {
     "data": {
      "image/png": "[encoded data removed]",
      "text/plain": [
       "<Figure size 720x144 with 2 Axes>"
      ]
     },
     "metadata": {},
     "output_type": "display_data"
    }
   ],
   "source": [
    "df_aux = df_train.loc[(df_train['CryoSleep'] == False)]\n",
    "fig, axes = plt.subplots(1, 2)\n",
    "\n",
    "print(\"Pasajeros no Criogenizados por planeta de Origen\")\n",
    "sns.countplot(data=df_aux, x='HomePlanet', hue='Transported', ax=axes[0]).set(title='Pasajeros no Criogenizados por planeta de Origen')\n",
    "\n",
    "df_aux = df_train.loc[(df_train['CryoSleep'] == 1)]\n",
    "\n",
    "print(\"Pasajeros Criogenizados por planeta de Origen\")\n",
    "sns.countplot(data=df_aux, x='HomePlanet', hue='Transported', ax=axes[1]).set(title='Pasajeros Criogenizados por planeta de Origen')"
   ]
  },
  {
   "cell_type": "markdown",
   "metadata": {},
   "source": [
    "Parece que hemos encontrado un par de grupos que fueron transportados a otra dimensión casi por completo. De los pasajeros que venían de Europa y Marte, especialmente los de Europa, y que estaban criogenizados se han transportado una amplia mayoría, concretamente:"
   ]
  },
  {
   "cell_type": "code",
   "execution_count": 22,
   "metadata": {},
   "outputs": [
    {
     "name": "stdout",
     "output_type": "stream",
     "text": [
      "Porcentaje de pasajeros criogenizados de Europa que han sido transportados: 98.90230515916575 %\n",
      "Porcentaje de pasajeros criogenizados de Marte que han sido transportados: 91.18086696562034 %\n"
     ]
    }
   ],
   "source": [
    "pct_eu = df_train[(df_train['CryoSleep']==True) & (df_train['HomePlanet']==\"Europa\") & (df_train['Transported']==True)].shape[0] / df_train[(df_train['CryoSleep']==True) & (df_train['HomePlanet']==\"Europa\")].shape[0]\n",
    "pct_mars = df_train[(df_train['CryoSleep']==True) & (df_train['HomePlanet']==\"Mars\") & (df_train['Transported']==True)].shape[0] / df_train[(df_train['CryoSleep']==True) & (df_train['HomePlanet']==\"Mars\")].shape[0]\n",
    "\n",
    "print(\"Porcentaje de pasajeros criogenizados de Europa que han sido transportados: {} %\".format(pct_eu*100))\n",
    "print(\"Porcentaje de pasajeros criogenizados de Marte que han sido transportados: {} %\".format(pct_mars*100))"
   ]
  },
  {
   "cell_type": "markdown",
   "metadata": {},
   "source": [
    "Para acabar con las variables cualitativas, utilizamos la información que hemos obtenido de la Cabina referente a su orientación para comprobar visualmente si ha influido en la variable objetivo. Este criterio lo aplicamos sobre los pacientes en animación suspendida, pues son los que estaban con toda seguridad en sus cabinas, como se especifica en la descripción de los datos:"
   ]
  },
  {
   "cell_type": "code",
   "execution_count": 23,
   "metadata": {},
   "outputs": [
    {
     "data": {
      "text/plain": [
       "<AxesSubplot:xlabel='CabinOrientation', ylabel='count'>"
      ]
     },
     "execution_count": 23,
     "metadata": {},
     "output_type": "execute_result"
    },
    {
     "data": {
      "image/png": "[encoded data removed]",
      "text/plain": [
       "<Figure size 432x216 with 1 Axes>"
      ]
     },
     "metadata": {},
     "output_type": "display_data"
    }
   ],
   "source": [
    "plt.figure(figsize=(6,3))\n",
    "sns.countplot(data=df_train[df_train['CryoSleep'] == 1], x='CabinOrientation', hue='Transported')"
   ]
  },
  {
   "cell_type": "markdown",
   "metadata": {},
   "source": [
    "A continuación pasamos a las variables cuantitativas, más concretamente a la edad de los pasajeros **Age**."
   ]
  },
  {
   "cell_type": "code",
   "execution_count": 24,
   "metadata": {},
   "outputs": [
    {
     "data": {
      "image/png": "[encoded data removed]",
      "text/plain": [
       "<Figure size 1080x216 with 1 Axes>"
      ]
     },
     "metadata": {},
     "output_type": "display_data"
    }
   ],
   "source": [
    "plt.figure(figsize=(15,3)) \n",
    "\n",
    "plt.hist(df_train['Age'][df_train['Transported']==1], alpha=0.5, density=False, bins=40, label=\"Transported\")\n",
    "plt.hist(df_train['Age'][df_train['Transported']==0], alpha=0.5, density=False, bins=40, label=\"No Transported\")\n",
    "plt.xlabel('Edad de los pasajeros')\n",
    "plt.title(\"Histograma de edades en función de si han sido transportados o no\")\n",
    "plt.legend(loc='upper right')\n",
    "plt.show()"
   ]
  },
  {
   "cell_type": "markdown",
   "metadata": {},
   "source": [
    "En proporción, los que más han sido transportados han sido los primeros grupos de edad, cuando en el resto de los pasajeros no se aprecia una diferencia importante. "
   ]
  },
  {
   "cell_type": "markdown",
   "metadata": {},
   "source": [
    "## Análisis estadístico <a class=\"anchor\" id=\"eda-statistics\"></a>\n",
    "\n",
    "\n",
    "\n",
    "En la siguiente sección se realizará un análisis del dataset desde un enfoque más estadístico.\n",
    "\n",
    "### Análisis estadístico descriptivo <a class=\"anchor\" id=\"eda-statistics-descrip\"></a>\n",
    "\n",
    "Comenzaremos por analizar las distribuciones de las diferentes variables numéricas, así como los valores máximos, mínimos, la media la moda y el rango intercuartílico."
   ]
  },
  {
   "cell_type": "code",
   "execution_count": 25,
   "metadata": {},
   "outputs": [
    {
     "data": {
      "text/html": [
       "<div>\n",
       "<style scoped>\n",
       "    .dataframe tbody tr th:only-of-type {\n",
       "        vertical-align: middle;\n",
       "    }\n",
       "\n",
       "    .dataframe tbody tr th {\n",
       "        vertical-align: top;\n",
       "    }\n",
       "\n",
       "    .dataframe thead th {\n",
       "        text-align: right;\n",
       "    }\n",
       "</style>\n",
       "<table border=\"1\" class=\"dataframe\">\n",
       "  <thead>\n",
       "    <tr style=\"text-align: right;\">\n",
       "      <th></th>\n",
       "      <th>Age</th>\n",
       "      <th>RoomService</th>\n",
       "      <th>FoodCourt</th>\n",
       "      <th>ShoppingMall</th>\n",
       "      <th>Spa</th>\n",
       "      <th>VRDeck</th>\n",
       "      <th>Total_spent</th>\n",
       "    </tr>\n",
       "  </thead>\n",
       "  <tbody>\n",
       "    <tr>\n",
       "      <th>count</th>\n",
       "      <td>12970.000000</td>\n",
       "      <td>12970.000000</td>\n",
       "      <td>12970.000000</td>\n",
       "      <td>12970.000000</td>\n",
       "      <td>12970.000000</td>\n",
       "      <td>12970.000000</td>\n",
       "      <td>12970.000000</td>\n",
       "    </tr>\n",
       "    <tr>\n",
       "      <th>mean</th>\n",
       "      <td>28.771969</td>\n",
       "      <td>218.378026</td>\n",
       "      <td>441.890979</td>\n",
       "      <td>170.779491</td>\n",
       "      <td>301.722282</td>\n",
       "      <td>300.450270</td>\n",
       "      <td>1433.221049</td>\n",
       "    </tr>\n",
       "    <tr>\n",
       "      <th>std</th>\n",
       "      <td>14.236710</td>\n",
       "      <td>641.766201</td>\n",
       "      <td>1568.038076</td>\n",
       "      <td>584.153630</td>\n",
       "      <td>1118.746785</td>\n",
       "      <td>1168.655639</td>\n",
       "      <td>2807.369708</td>\n",
       "    </tr>\n",
       "    <tr>\n",
       "      <th>min</th>\n",
       "      <td>0.000000</td>\n",
       "      <td>0.000000</td>\n",
       "      <td>0.000000</td>\n",
       "      <td>0.000000</td>\n",
       "      <td>0.000000</td>\n",
       "      <td>0.000000</td>\n",
       "      <td>0.000000</td>\n",
       "    </tr>\n",
       "    <tr>\n",
       "      <th>25%</th>\n",
       "      <td>20.000000</td>\n",
       "      <td>0.000000</td>\n",
       "      <td>0.000000</td>\n",
       "      <td>0.000000</td>\n",
       "      <td>0.000000</td>\n",
       "      <td>0.000000</td>\n",
       "      <td>0.000000</td>\n",
       "    </tr>\n",
       "    <tr>\n",
       "      <th>50%</th>\n",
       "      <td>27.000000</td>\n",
       "      <td>0.000000</td>\n",
       "      <td>0.000000</td>\n",
       "      <td>0.000000</td>\n",
       "      <td>0.000000</td>\n",
       "      <td>0.000000</td>\n",
       "      <td>716.000000</td>\n",
       "    </tr>\n",
       "    <tr>\n",
       "      <th>75%</th>\n",
       "      <td>37.000000</td>\n",
       "      <td>42.750000</td>\n",
       "      <td>62.750000</td>\n",
       "      <td>23.000000</td>\n",
       "      <td>50.000000</td>\n",
       "      <td>36.000000</td>\n",
       "      <td>1442.000000</td>\n",
       "    </tr>\n",
       "    <tr>\n",
       "      <th>max</th>\n",
       "      <td>79.000000</td>\n",
       "      <td>14327.000000</td>\n",
       "      <td>29813.000000</td>\n",
       "      <td>23492.000000</td>\n",
       "      <td>22408.000000</td>\n",
       "      <td>24133.000000</td>\n",
       "      <td>35987.000000</td>\n",
       "    </tr>\n",
       "  </tbody>\n",
       "</table>\n",
       "</div>"
      ],
      "text/plain": [
       "                Age   RoomService     FoodCourt  ShoppingMall           Spa  \\\n",
       "count  12970.000000  12970.000000  12970.000000  12970.000000  12970.000000   \n",
       "mean      28.771969    218.378026    441.890979    170.779491    301.722282   \n",
       "std       14.236710    641.766201   1568.038076    584.153630   1118.746785   \n",
       "min        0.000000      0.000000      0.000000      0.000000      0.000000   \n",
       "25%       20.000000      0.000000      0.000000      0.000000      0.000000   \n",
       "50%       27.000000      0.000000      0.000000      0.000000      0.000000   \n",
       "75%       37.000000     42.750000     62.750000     23.000000     50.000000   \n",
       "max       79.000000  14327.000000  29813.000000  23492.000000  22408.000000   \n",
       "\n",
       "             VRDeck   Total_spent  \n",
       "count  12970.000000  12970.000000  \n",
       "mean     300.450270   1433.221049  \n",
       "std     1168.655639   2807.369708  \n",
       "min        0.000000      0.000000  \n",
       "25%        0.000000      0.000000  \n",
       "50%        0.000000    716.000000  \n",
       "75%       36.000000   1442.000000  \n",
       "max    24133.000000  35987.000000  "
      ]
     },
     "execution_count": 25,
     "metadata": {},
     "output_type": "execute_result"
    }
   ],
   "source": [
    "df[numeric_cols].describe()"
   ]
  },
  {
   "cell_type": "markdown",
   "metadata": {},
   "source": [
    "En el caso de la **edad**, podemos ver que el 50% de la población más central se encuentra entre los 20 y los 27 años de edad, por lo que la mayoría de los tripulantes son bastante jóvenes. Los datos forman una distribución bastante simética, exceptuando una serie de outliers por la derecha formada por gente mayor de 63 años, lo cual hace que la media suba y por tanto rompe con la simetría. El máximo de edad se encuentra en los 79 años, con lo cual concluimos que en comparación con la esperanza de vida actual, se trata de una población poco longeva.\n",
    "\n",
    "El resto de las variables relativas a los gastos tienen una forma bastante similar, por lo que las comentaremos a la vez. Se caracterizan por una distribución nada simétrica, en la que la gran mayoría de valores se concentran al principio, de manera que se forma en todas una larga cola por la parte derecha formada por valores considerados outliers. La gran mayoría de genre no suele gastarse grandes cantidades de dinero en los servicios de la nave, ya que en ninguno de los servicios el 75% de los valores más comunes excede los 70 euros. No obstante, las medias de todas las variables se ven muy perjudicadas por la gran cantidad de outliers, al no ser una medida robusta de tendencia central. En resumen, existen muchas personas que se gastan poco en servicios, en contraste con unas pocas personas que se gastan mucho en servicios. En el caso del Spa por ejemplo, mientras la gran mayoría de personas no han excedido un gasto de 50 euros, en otras personas las cantidades gastadas superan los 22.000 euros. Fijándonos en la media, el servicio en el que la gente suele gastarse más dinero es en **FoodCourt**."
   ]
  },
  {
   "cell_type": "markdown",
   "metadata": {},
   "source": [
    "### Comprobación de la normalidad y homogeneidad de la varianza <a class=\"anchor\" id=\"normal\"></a>\n"
   ]
  },
  {
   "cell_type": "markdown",
   "metadata": {},
   "source": [
    "A continuación realizaremos la comprobación mediante test estadísticos de la normalidad y homocedasticidad entre las varianzas de los diferentes grupos que consideremos interesantes.\n",
    "\n",
    "Las variables de las que vamos a comprobar la normalidad y la homocedasticidad son **Age** y **Total_spent**, pues son las únicas variables cuantitativas (tomando **Total_spent** como conjunto de las columnas **RoomService, FoodCourt, ShoppingMall, Spa y VRDeck**).\n",
    "\n",
    "Para comprobar la normalidad de cada una de las columnas vamos a aplicar el test de K-cuadrado de D'Agostino y, para la comprobación de la homocedasticiad, el test de **Levene**.\n",
    "\n",
    "La prueba de K-cuadrado de D'Agostino prueba la hipótesis nula de que la muestra proviene de una distribución normal y la de Levene prueba la hipótesis nula de que las muestras provienen de poblaciones con varianzas iguales. En ambas ocasiones, si obtenemos un p-valor mayor que 0.05, podemos rechazar la hipótesis nula con un 95% de confianza."
   ]
  },
  {
   "cell_type": "code",
   "execution_count": 26,
   "metadata": {},
   "outputs": [
    {
     "name": "stdout",
     "output_type": "stream",
     "text": [
      "Variable Age:\n",
      "P-Value: 1.0490300128101836e-54 - La muestra no proviene de una población normalmente distribuida\n",
      "\n",
      "Variable Total_spent:\n",
      "P-Value: 0.0 - La muestra no proviene de una población normalmente distribuida\n"
     ]
    }
   ],
   "source": [
    "# Prueba de K-cuadrado de D'Agostino\n",
    "t_stat_norm_age, p_norm_age = normaltest(df_train['Age'])\n",
    "t_stat_norm_spent, p_norm_spent = normaltest(df_train['Total_spent'])\n",
    "\n",
    "print(\"Variable Age:\")\n",
    "\n",
    "if p_norm_age <= 0.05:\n",
    "    print(\"P-Value: {} - La muestra no proviene de una población normalmente distribuida\".format(p_norm_age))\n",
    "else:\n",
    "    print(\"P-Value: {} - La muestra proviene de una población normalmente distribuida\".format(p_norm_age))\n",
    "    \n",
    "print(\"\\nVariable Total_spent:\")\n",
    "\n",
    "if p_norm_spent <= 0.05:\n",
    "    print(\"P-Value: {} - La muestra no proviene de una población normalmente distribuida\".format(p_norm_spent))\n",
    "else:\n",
    "    print(\"P-Value: {} - La muestra proviene de una población normalmente distribuida\".format(p_norm_spent))"
   ]
  },
  {
   "cell_type": "markdown",
   "metadata": {},
   "source": [
    "Parece que ninguna de las 2 variables proviene de una distribución normal. Ahora vamos a comprobar la homogeneidad de la varianza de la edad entre los grupos de pasajeros que fueron transportados y los que no."
   ]
  },
  {
   "cell_type": "code",
   "execution_count": 27,
   "metadata": {},
   "outputs": [
    {
     "name": "stdout",
     "output_type": "stream",
     "text": [
      "Variable Age:\n",
      "P-Value: 1.0490300128101836e-54 - Las varianzas no son homogeneas\n"
     ]
    }
   ],
   "source": [
    "muestra_1 = df_train[df_train['Transported']==1]['Age']\n",
    "muestra_2 = df_train[df_train['Transported']==0]['Age']\n",
    "\n",
    "# Prueba de K-cuadrado de D'Agostino\n",
    "t_stat_var, p_var = levene(muestra_1, muestra_2)\n",
    "\n",
    "print(\"Variable Age:\")\n",
    "\n",
    "if p_var <= 0.05:\n",
    "    print(\"P-Value: {} - Las varianzas no son homogeneas\".format(p_norm_age))\n",
    "else:\n",
    "    print(\"P-Value: {} - Las varianzas son homogeneas\".format(p_norm_age))"
   ]
  },
  {
   "cell_type": "markdown",
   "metadata": {},
   "source": [
    "### Aplicación de pruebas estadísticas  <a class=\"anchor\" id=\"tests\"></a>"
   ]
  },
  {
   "cell_type": "markdown",
   "metadata": {},
   "source": [
    "En función de lo que hemos observado durante el análisis exploratorio descriptivo, vamos a realizar tres pruebas estadísticas."
   ]
  },
  {
   "cell_type": "markdown",
   "metadata": {},
   "source": [
    "#### ¿ Existe correlación entre el planeta de origen y si ha sido transportado?\n",
    "\n",
    "Queremos comprobar si las variables **HomePlanet** y **Transported** son dependientes es decir, si influye o no el país de origen del individuo a la hora de predecir si será teletransportado a otra dimensión o no. Al tratarse de dos variables categóticas, utilizaremos la prueba de chi-cuadrado de Pearson. Este test nos permite realizar una prueba de independencia entre ambas variables. \n",
    "\n",
    "En primer lugar, calcularemos una tabla de contingencia para resumir la relación entre ambas variables. Podemos ver la cantidad de personas que han sido transportadas y las que no provenientes de cada país de origen."
   ]
  },
  {
   "cell_type": "code",
   "execution_count": 28,
   "metadata": {},
   "outputs": [
    {
     "data": {
      "text/html": [
       "<div>\n",
       "<style scoped>\n",
       "    .dataframe tbody tr th:only-of-type {\n",
       "        vertical-align: middle;\n",
       "    }\n",
       "\n",
       "    .dataframe tbody tr th {\n",
       "        vertical-align: top;\n",
       "    }\n",
       "\n",
       "    .dataframe thead th {\n",
       "        text-align: right;\n",
       "    }\n",
       "</style>\n",
       "<table border=\"1\" class=\"dataframe\">\n",
       "  <thead>\n",
       "    <tr style=\"text-align: right;\">\n",
       "      <th>Transported</th>\n",
       "      <th>0</th>\n",
       "      <th>1</th>\n",
       "      <th>All</th>\n",
       "    </tr>\n",
       "    <tr>\n",
       "      <th>HomePlanet</th>\n",
       "      <th></th>\n",
       "      <th></th>\n",
       "      <th></th>\n",
       "    </tr>\n",
       "  </thead>\n",
       "  <tbody>\n",
       "    <tr>\n",
       "      <th>Earth</th>\n",
       "      <td>2651</td>\n",
       "      <td>1951</td>\n",
       "      <td>4602</td>\n",
       "    </tr>\n",
       "    <tr>\n",
       "      <th>Europa</th>\n",
       "      <td>727</td>\n",
       "      <td>1404</td>\n",
       "      <td>2131</td>\n",
       "    </tr>\n",
       "    <tr>\n",
       "      <th>Mars</th>\n",
       "      <td>839</td>\n",
       "      <td>920</td>\n",
       "      <td>1759</td>\n",
       "    </tr>\n",
       "    <tr>\n",
       "      <th>Origen desconocido</th>\n",
       "      <td>98</td>\n",
       "      <td>103</td>\n",
       "      <td>201</td>\n",
       "    </tr>\n",
       "    <tr>\n",
       "      <th>All</th>\n",
       "      <td>4315</td>\n",
       "      <td>4378</td>\n",
       "      <td>8693</td>\n",
       "    </tr>\n",
       "  </tbody>\n",
       "</table>\n",
       "</div>"
      ],
      "text/plain": [
       "Transported            0     1   All\n",
       "HomePlanet                          \n",
       "Earth               2651  1951  4602\n",
       "Europa               727  1404  2131\n",
       "Mars                 839   920  1759\n",
       "Origen desconocido    98   103   201\n",
       "All                 4315  4378  8693"
      ]
     },
     "execution_count": 28,
     "metadata": {},
     "output_type": "execute_result"
    }
   ],
   "source": [
    "contingency=pd.crosstab(df_train['HomePlanet'],\n",
    "                            df_train['Transported'], \n",
    "                            margins = False)\n",
    "pd.crosstab(df_train['HomePlanet'], df_train['Transported'],  margins = True)"
   ]
  },
  {
   "cell_type": "code",
   "execution_count": 29,
   "metadata": {},
   "outputs": [
    {
     "name": "stdout",
     "output_type": "stream",
     "text": [
      "chi value:\t\t324.96723663979583\n",
      "p-value:\t\t 3.9214919240932375e-70\n",
      "degrees of freedom:\t 3\n",
      "expected values:\n",
      "[[2284.32416887 2317.67583113]\n",
      " [1057.77809732 1073.22190268]\n",
      " [ 873.12607845  885.87392155]\n",
      " [  99.77165535  101.22834465]]\n",
      "\n",
      "_______Resultados del test Chi cuadrado_______\n",
      "Variables dependientes (rechazo de H0)\n"
     ]
    }
   ],
   "source": [
    "chi_val, p, dof, expected = chi2_contingency(contingency)\n",
    "print(f'chi value:\\t\\t{chi_val}\\np-value:\\t\\t {p}\\ndegrees of freedom:\\t {dof}\\nexpected values:\\n{expected}\\n')\n",
    "\n",
    "print('_______Resultados del test Chi cuadrado_______')\n",
    "if p <= 0.05:\n",
    "    print('Variables dependientes (rechazo de H0)')\n",
    "else:\n",
    "    print('Variables independientes (aceptación de H0)')"
   ]
  },
  {
   "cell_type": "markdown",
   "metadata": {},
   "source": [
    "Una vez realizado el test, analizamos los resultados obtenidos. En el caso del test de Chi cuadrado, la hipótesis nula () establece que no existe relación entre las variables. Por el contrario, la hipótesis alternativa () afirmaría que existe una relación significativa entre ambas. Observando el p-valor resultante, vemos que se trata de un valor muy cercano a 0, inferior al nivel de significancia 0.05. Por tanto, el error de descartar  sería muy bajo. Se entiende por tanto que el valor resultado del test 324.90 es mayor al valor crítico, cayendo en la zona de rechazo de la hipótesis nula. Podemos afirmar entonces que las variables HomePlanet y Transported son dependientes."
   ]
  },
  {
   "cell_type": "markdown",
   "metadata": {},
   "source": [
    "### Intervalos de confianza de la media de la edad\n",
    "\n",
    "Siguiendo con la prueba anterior, vamos a realizar una prueba t de Student para comprobar si la media de la edad de los pasajeros que han sido transportados es igual a la de los pasajeros que no han sido transportados o, por el contrario, hay una diferencia significativa.\n",
    "\n",
    "Las hipotesis que se plantean son:\n",
    "\n",
    "- **H0**: La hipotesis nula - Las medias de las 2 muestras son idénticas\n",
    "- **H1**: La hipotesis alternativa - Las medias no son iguales"
   ]
  },
  {
   "cell_type": "code",
   "execution_count": 30,
   "metadata": {},
   "outputs": [
    {
     "name": "stdout",
     "output_type": "stream",
     "text": [
      "P-Value: 0.0 - Hay diferencia entre las 2 variables\n"
     ]
    }
   ],
   "source": [
    "muestra_1 = df_train[df_train['Transported']==1]['Age']\n",
    "muestra_2 = df_train[df_train['Transported']==0]['Age']\n",
    "\n",
    "t_stat, p = ttest_ind(muestra_1, muestra_2)\n",
    "\n",
    "if p <= 0.05:\n",
    "    print(\"P-Value: {} - Hay diferencia entre las 2 variables\".format(round(p,3)))\n",
    "else:\n",
    "    print(\"P-Value: {} - No hay diferencia entre las 2 variables\".format(round(p,3)))"
   ]
  },
  {
   "cell_type": "markdown",
   "metadata": {},
   "source": [
    "Al obtener un p-valor = 0.0, podemos rechazar la hipótesis nula con una confianza del 95% y asumir que la media de la edad de los pasajeros que han sido transportados es distinta de los no transportados."
   ]
  },
  {
   "cell_type": "markdown",
   "metadata": {},
   "source": [
    "####  ¿ Es la misma la media de la edad de los pasajeros que han sido transportados y los que no?\n",
    "\n",
    "Siguiendo con la prueba anterior, vamos a realizar una prueba t de Student para comprobar si la media de la edad de los pasajeros que han sido transportados es igual a la de los pasajeros que no han sido transportados o, por el contrario, hay una diferencia significativa.\n",
    "\n",
    "Las hipotesis que se plantean son:\n",
    "\n",
    "- **H0**: La hipotesis nula - Las medias de las 2 muestras son idénticas\n",
    "- **H1**: La hipotesis alternativa - Las medias no son iguales"
   ]
  },
  {
   "cell_type": "code",
   "execution_count": 31,
   "metadata": {},
   "outputs": [
    {
     "name": "stdout",
     "output_type": "stream",
     "text": [
      "P-Value: 0.0 - Hay diferencia entre las 2 variables\n"
     ]
    }
   ],
   "source": [
    "muestra_1 = df_train[df_train['Transported']==1]['Age']\n",
    "muestra_2 = df_train[df_train['Transported']==0]['Age']\n",
    "\n",
    "t_stat, p = ttest_ind(muestra_1, muestra_2)\n",
    "\n",
    "if p <= 0.05:\n",
    "    print(\"P-Value: {} - Hay diferencia entre las 2 variables\".format(round(p,3)))\n",
    "else:\n",
    "    print(\"P-Value: {} - No hay diferencia entre las 2 variables\".format(round(p,3)))"
   ]
  },
  {
   "cell_type": "markdown",
   "metadata": {},
   "source": [
    "Al obtener un p-valor = 0.0, podemos rechazar la hipótesis nula con una confianza del 95% y asumir que la media de la edad de los pasajeros que han sido transportados es distinta de los no transportados."
   ]
  },
  {
   "cell_type": "markdown",
   "metadata": {},
   "source": [
    "# Conclusiones  <a class=\"anchor\" id=\"conclussion\"></a>\n",
    "\n",
    "Como el objetivo original del conjunto de datos es predecir los pasajeros que van a ser transportados a otra dimensión está fuera del alcance de este documento, nos enfocaremos en el análisis de datos realizados para estimar cuáles son los pasajeros que tienen menos posibilidades se haber sido transportados:\n",
    "\n",
    "- Aunque el grupo de pasajero Origen-Destino más numeroso es el que va desde La Tierra a TRAPPIST-1e, se han salvado aproximadamente el mismo numero de pasajeros que los han sido transportados.\n",
    "\n",
    "- Las diferencias más significativas se aprecian entre los pasajeros en animación suspendida y los que no y los pasajeros que viajan a Europa y Marte.\n",
    "\n",
    "- Si juntamos los criterios del punto anterior, obtenemos que apenas hay pasajeros en animación suspendida que venían de Europa que hayan conseguido salvarse de ser transportados a otra dimensión. En menor medida pero igualmente destacable son los pasajeros de Marte en animación suspendida.\n",
    "\n",
    "- Sería lógico pensar los pasajeros de uno de los lados de la nave (babor o estribor) estarían más afectados que otros y más al estar en animación suspendida, pues estarían confinados en sus cabinas. Sin embargo, no se aprecia una diferencia entre ellos.\n",
    "\n",
    "\n",
    "# Tabla de contribuciones\n",
    "\n",
    "\n",
    "| Contribuciones              \t| Firma \t|\n",
    "|-----------------------------\t|-------\t|\n",
    "| Investigación previa        \t| ACG, DGS   \t|\n",
    "| Redacción de las respuestas \t| ACG, DGS   \t|\n",
    "| Desarrollo código           \t| ACG, DGS   \t|"
   ]
  }
 ],
 "metadata": {
  "authors": [
   {
    "name": "Alicia Contreras Garrudo"
   },
   {
    "name": "Daniel García Sousa"
   }
  ],
  "interpreter": {
   "hash": "de4030e74387d6245ba244750d0a1ea8229fed11885be4a55263bc0517665fa5"
  },
  "kernelspec": {
   "display_name": "Python 3 (ipykernel)",
   "language": "python",
   "name": "python3"
  },
  "language_info": {
   "codemirror_mode": {
    "name": "ipython",
    "version": 3
   },
   "file_extension": ".py",
   "mimetype": "text/x-python",
   "name": "python",
   "nbconvert_exporter": "python",
   "pygments_lexer": "ipython3",
   "version": "3.9.12"
  },
  "title": "Spacehip Titanic - Exploratory data analysis"
 },
 "nbformat": 4,
 "nbformat_minor": 2
}
